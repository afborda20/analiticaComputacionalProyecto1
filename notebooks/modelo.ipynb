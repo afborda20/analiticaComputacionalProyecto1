{
 "cells": [
  {
   "cell_type": "markdown",
   "metadata": {},
   "source": [
    "# Creacion del modelo"
   ]
  },
  {
   "cell_type": "code",
   "execution_count": 90,
   "metadata": {},
   "outputs": [],
   "source": [
    "# importamos las librerias necesarias\n",
    "import pandas as pd\n",
    "import seaborn as sns\n",
    "import numpy as np\n",
    "import matplotlib.pyplot as plt\n",
    "%matplotlib inline"
   ]
  },
  {
   "cell_type": "code",
   "execution_count": 91,
   "metadata": {},
   "outputs": [
    {
     "name": "stdout",
     "output_type": "stream",
     "text": [
      "(1197, 16)\n"
     ]
    },
    {
     "data": {
      "text/html": [
       "<div>\n",
       "<style scoped>\n",
       "    .dataframe tbody tr th:only-of-type {\n",
       "        vertical-align: middle;\n",
       "    }\n",
       "\n",
       "    .dataframe tbody tr th {\n",
       "        vertical-align: top;\n",
       "    }\n",
       "\n",
       "    .dataframe thead th {\n",
       "        text-align: right;\n",
       "    }\n",
       "</style>\n",
       "<table border=\"1\" class=\"dataframe\">\n",
       "  <thead>\n",
       "    <tr style=\"text-align: right;\">\n",
       "      <th></th>\n",
       "      <th>quarter</th>\n",
       "      <th>department</th>\n",
       "      <th>day</th>\n",
       "      <th>team</th>\n",
       "      <th>targeted_productivity</th>\n",
       "      <th>smv</th>\n",
       "      <th>over_time</th>\n",
       "      <th>incentive</th>\n",
       "      <th>idle_time</th>\n",
       "      <th>idle_men</th>\n",
       "      <th>no_of_style_change</th>\n",
       "      <th>no_of_workers</th>\n",
       "      <th>actual_productivity</th>\n",
       "      <th>quarterEncoded</th>\n",
       "      <th>dayEncoded</th>\n",
       "      <th>productivity_indicator</th>\n",
       "    </tr>\n",
       "    <tr>\n",
       "      <th>date</th>\n",
       "      <th></th>\n",
       "      <th></th>\n",
       "      <th></th>\n",
       "      <th></th>\n",
       "      <th></th>\n",
       "      <th></th>\n",
       "      <th></th>\n",
       "      <th></th>\n",
       "      <th></th>\n",
       "      <th></th>\n",
       "      <th></th>\n",
       "      <th></th>\n",
       "      <th></th>\n",
       "      <th></th>\n",
       "      <th></th>\n",
       "      <th></th>\n",
       "    </tr>\n",
       "  </thead>\n",
       "  <tbody>\n",
       "    <tr>\n",
       "      <th>1/1/2015</th>\n",
       "      <td>Quarter1</td>\n",
       "      <td>1</td>\n",
       "      <td>Thursday</td>\n",
       "      <td>8</td>\n",
       "      <td>0.80</td>\n",
       "      <td>26.16</td>\n",
       "      <td>7080</td>\n",
       "      <td>98</td>\n",
       "      <td>0.0</td>\n",
       "      <td>0</td>\n",
       "      <td>0</td>\n",
       "      <td>59.0</td>\n",
       "      <td>0.940725</td>\n",
       "      <td>0</td>\n",
       "      <td>3</td>\n",
       "      <td>0.140725</td>\n",
       "    </tr>\n",
       "    <tr>\n",
       "      <th>1/1/2015</th>\n",
       "      <td>Quarter1</td>\n",
       "      <td>0</td>\n",
       "      <td>Thursday</td>\n",
       "      <td>1</td>\n",
       "      <td>0.75</td>\n",
       "      <td>3.94</td>\n",
       "      <td>960</td>\n",
       "      <td>0</td>\n",
       "      <td>0.0</td>\n",
       "      <td>0</td>\n",
       "      <td>0</td>\n",
       "      <td>8.0</td>\n",
       "      <td>0.886500</td>\n",
       "      <td>0</td>\n",
       "      <td>3</td>\n",
       "      <td>0.136500</td>\n",
       "    </tr>\n",
       "    <tr>\n",
       "      <th>1/1/2015</th>\n",
       "      <td>Quarter1</td>\n",
       "      <td>1</td>\n",
       "      <td>Thursday</td>\n",
       "      <td>11</td>\n",
       "      <td>0.80</td>\n",
       "      <td>11.41</td>\n",
       "      <td>3660</td>\n",
       "      <td>50</td>\n",
       "      <td>0.0</td>\n",
       "      <td>0</td>\n",
       "      <td>0</td>\n",
       "      <td>30.5</td>\n",
       "      <td>0.800570</td>\n",
       "      <td>0</td>\n",
       "      <td>3</td>\n",
       "      <td>0.000570</td>\n",
       "    </tr>\n",
       "    <tr>\n",
       "      <th>1/1/2015</th>\n",
       "      <td>Quarter1</td>\n",
       "      <td>1</td>\n",
       "      <td>Thursday</td>\n",
       "      <td>12</td>\n",
       "      <td>0.80</td>\n",
       "      <td>11.41</td>\n",
       "      <td>3660</td>\n",
       "      <td>50</td>\n",
       "      <td>0.0</td>\n",
       "      <td>0</td>\n",
       "      <td>0</td>\n",
       "      <td>30.5</td>\n",
       "      <td>0.800570</td>\n",
       "      <td>0</td>\n",
       "      <td>3</td>\n",
       "      <td>0.000570</td>\n",
       "    </tr>\n",
       "    <tr>\n",
       "      <th>1/1/2015</th>\n",
       "      <td>Quarter1</td>\n",
       "      <td>1</td>\n",
       "      <td>Thursday</td>\n",
       "      <td>6</td>\n",
       "      <td>0.80</td>\n",
       "      <td>25.90</td>\n",
       "      <td>1920</td>\n",
       "      <td>50</td>\n",
       "      <td>0.0</td>\n",
       "      <td>0</td>\n",
       "      <td>0</td>\n",
       "      <td>56.0</td>\n",
       "      <td>0.800382</td>\n",
       "      <td>0</td>\n",
       "      <td>3</td>\n",
       "      <td>0.000382</td>\n",
       "    </tr>\n",
       "  </tbody>\n",
       "</table>\n",
       "</div>"
      ],
      "text/plain": [
       "           quarter  department       day  team  targeted_productivity    smv  \\\n",
       "date                                                                           \n",
       "1/1/2015  Quarter1           1  Thursday     8                   0.80  26.16   \n",
       "1/1/2015  Quarter1           0  Thursday     1                   0.75   3.94   \n",
       "1/1/2015  Quarter1           1  Thursday    11                   0.80  11.41   \n",
       "1/1/2015  Quarter1           1  Thursday    12                   0.80  11.41   \n",
       "1/1/2015  Quarter1           1  Thursday     6                   0.80  25.90   \n",
       "\n",
       "          over_time  incentive  idle_time  idle_men  no_of_style_change  \\\n",
       "date                                                                      \n",
       "1/1/2015       7080         98        0.0         0                   0   \n",
       "1/1/2015        960          0        0.0         0                   0   \n",
       "1/1/2015       3660         50        0.0         0                   0   \n",
       "1/1/2015       3660         50        0.0         0                   0   \n",
       "1/1/2015       1920         50        0.0         0                   0   \n",
       "\n",
       "          no_of_workers  actual_productivity  quarterEncoded  dayEncoded  \\\n",
       "date                                                                       \n",
       "1/1/2015           59.0             0.940725               0           3   \n",
       "1/1/2015            8.0             0.886500               0           3   \n",
       "1/1/2015           30.5             0.800570               0           3   \n",
       "1/1/2015           30.5             0.800570               0           3   \n",
       "1/1/2015           56.0             0.800382               0           3   \n",
       "\n",
       "          productivity_indicator  \n",
       "date                              \n",
       "1/1/2015                0.140725  \n",
       "1/1/2015                0.136500  \n",
       "1/1/2015                0.000570  \n",
       "1/1/2015                0.000570  \n",
       "1/1/2015                0.000382  "
      ]
     },
     "execution_count": 91,
     "metadata": {},
     "output_type": "execute_result"
    }
   ],
   "source": [
    "#Se leen los datos una vez limpiados\n",
    "#Por favor cambiar la ruta por la ruta absoluta correspondiente a su equipo, gracias. \n",
    "path = 'C:/Users/USER/Desktop/Analitica/analiticaComputacionalProyecto1/data/cleanData.csv'\n",
    "data = pd.read_csv(path,index_col=0)\n",
    "#Revisamos el tamaño de los datos y su resumen\n",
    "print(data.shape)\n",
    "data.head()"
   ]
  },
  {
   "cell_type": "code",
   "execution_count": 92,
   "metadata": {},
   "outputs": [
    {
     "data": {
      "text/html": [
       "<div>\n",
       "<style scoped>\n",
       "    .dataframe tbody tr th:only-of-type {\n",
       "        vertical-align: middle;\n",
       "    }\n",
       "\n",
       "    .dataframe tbody tr th {\n",
       "        vertical-align: top;\n",
       "    }\n",
       "\n",
       "    .dataframe thead th {\n",
       "        text-align: right;\n",
       "    }\n",
       "</style>\n",
       "<table border=\"1\" class=\"dataframe\">\n",
       "  <thead>\n",
       "    <tr style=\"text-align: right;\">\n",
       "      <th></th>\n",
       "      <th>department</th>\n",
       "      <th>team</th>\n",
       "      <th>targeted_productivity</th>\n",
       "      <th>smv</th>\n",
       "      <th>over_time</th>\n",
       "      <th>incentive</th>\n",
       "      <th>idle_time</th>\n",
       "      <th>idle_men</th>\n",
       "      <th>no_of_style_change</th>\n",
       "      <th>no_of_workers</th>\n",
       "      <th>actual_productivity</th>\n",
       "      <th>quarterEncoded</th>\n",
       "      <th>dayEncoded</th>\n",
       "      <th>productivity_indicator</th>\n",
       "    </tr>\n",
       "  </thead>\n",
       "  <tbody>\n",
       "    <tr>\n",
       "      <th>count</th>\n",
       "      <td>1197.000000</td>\n",
       "      <td>1197.000000</td>\n",
       "      <td>1197.000000</td>\n",
       "      <td>1197.000000</td>\n",
       "      <td>1197.000000</td>\n",
       "      <td>1197.000000</td>\n",
       "      <td>1197.000000</td>\n",
       "      <td>1197.000000</td>\n",
       "      <td>1197.000000</td>\n",
       "      <td>1197.000000</td>\n",
       "      <td>1197.000000</td>\n",
       "      <td>1197.000000</td>\n",
       "      <td>1197.000000</td>\n",
       "      <td>1197.000000</td>\n",
       "    </tr>\n",
       "    <tr>\n",
       "      <th>mean</th>\n",
       "      <td>0.577277</td>\n",
       "      <td>6.426901</td>\n",
       "      <td>0.729632</td>\n",
       "      <td>15.062172</td>\n",
       "      <td>4567.460317</td>\n",
       "      <td>38.210526</td>\n",
       "      <td>0.730159</td>\n",
       "      <td>0.369256</td>\n",
       "      <td>0.150376</td>\n",
       "      <td>34.609858</td>\n",
       "      <td>0.735091</td>\n",
       "      <td>1.399332</td>\n",
       "      <td>2.487051</td>\n",
       "      <td>0.005459</td>\n",
       "    </tr>\n",
       "    <tr>\n",
       "      <th>std</th>\n",
       "      <td>0.494199</td>\n",
       "      <td>3.463963</td>\n",
       "      <td>0.097891</td>\n",
       "      <td>10.943219</td>\n",
       "      <td>3348.823563</td>\n",
       "      <td>160.182643</td>\n",
       "      <td>12.709757</td>\n",
       "      <td>3.268987</td>\n",
       "      <td>0.427848</td>\n",
       "      <td>22.197687</td>\n",
       "      <td>0.174488</td>\n",
       "      <td>1.215535</td>\n",
       "      <td>1.707511</td>\n",
       "      <td>0.160082</td>\n",
       "    </tr>\n",
       "    <tr>\n",
       "      <th>min</th>\n",
       "      <td>0.000000</td>\n",
       "      <td>1.000000</td>\n",
       "      <td>0.070000</td>\n",
       "      <td>2.900000</td>\n",
       "      <td>0.000000</td>\n",
       "      <td>0.000000</td>\n",
       "      <td>0.000000</td>\n",
       "      <td>0.000000</td>\n",
       "      <td>0.000000</td>\n",
       "      <td>2.000000</td>\n",
       "      <td>0.233705</td>\n",
       "      <td>0.000000</td>\n",
       "      <td>0.000000</td>\n",
       "      <td>-0.561958</td>\n",
       "    </tr>\n",
       "    <tr>\n",
       "      <th>25%</th>\n",
       "      <td>0.000000</td>\n",
       "      <td>3.000000</td>\n",
       "      <td>0.700000</td>\n",
       "      <td>3.940000</td>\n",
       "      <td>1440.000000</td>\n",
       "      <td>0.000000</td>\n",
       "      <td>0.000000</td>\n",
       "      <td>0.000000</td>\n",
       "      <td>0.000000</td>\n",
       "      <td>9.000000</td>\n",
       "      <td>0.650307</td>\n",
       "      <td>0.000000</td>\n",
       "      <td>1.000000</td>\n",
       "      <td>-0.009556</td>\n",
       "    </tr>\n",
       "    <tr>\n",
       "      <th>50%</th>\n",
       "      <td>1.000000</td>\n",
       "      <td>6.000000</td>\n",
       "      <td>0.750000</td>\n",
       "      <td>15.260000</td>\n",
       "      <td>3960.000000</td>\n",
       "      <td>0.000000</td>\n",
       "      <td>0.000000</td>\n",
       "      <td>0.000000</td>\n",
       "      <td>0.000000</td>\n",
       "      <td>34.000000</td>\n",
       "      <td>0.773333</td>\n",
       "      <td>1.000000</td>\n",
       "      <td>2.000000</td>\n",
       "      <td>0.000505</td>\n",
       "    </tr>\n",
       "    <tr>\n",
       "      <th>75%</th>\n",
       "      <td>1.000000</td>\n",
       "      <td>9.000000</td>\n",
       "      <td>0.800000</td>\n",
       "      <td>24.260000</td>\n",
       "      <td>6960.000000</td>\n",
       "      <td>50.000000</td>\n",
       "      <td>0.000000</td>\n",
       "      <td>0.000000</td>\n",
       "      <td>0.000000</td>\n",
       "      <td>57.000000</td>\n",
       "      <td>0.850253</td>\n",
       "      <td>2.000000</td>\n",
       "      <td>4.000000</td>\n",
       "      <td>0.099111</td>\n",
       "    </tr>\n",
       "    <tr>\n",
       "      <th>max</th>\n",
       "      <td>1.000000</td>\n",
       "      <td>12.000000</td>\n",
       "      <td>0.800000</td>\n",
       "      <td>54.560000</td>\n",
       "      <td>25920.000000</td>\n",
       "      <td>3600.000000</td>\n",
       "      <td>300.000000</td>\n",
       "      <td>45.000000</td>\n",
       "      <td>2.000000</td>\n",
       "      <td>89.000000</td>\n",
       "      <td>1.120437</td>\n",
       "      <td>4.000000</td>\n",
       "      <td>5.000000</td>\n",
       "      <td>0.644375</td>\n",
       "    </tr>\n",
       "  </tbody>\n",
       "</table>\n",
       "</div>"
      ],
      "text/plain": [
       "        department         team  targeted_productivity          smv  \\\n",
       "count  1197.000000  1197.000000            1197.000000  1197.000000   \n",
       "mean      0.577277     6.426901               0.729632    15.062172   \n",
       "std       0.494199     3.463963               0.097891    10.943219   \n",
       "min       0.000000     1.000000               0.070000     2.900000   \n",
       "25%       0.000000     3.000000               0.700000     3.940000   \n",
       "50%       1.000000     6.000000               0.750000    15.260000   \n",
       "75%       1.000000     9.000000               0.800000    24.260000   \n",
       "max       1.000000    12.000000               0.800000    54.560000   \n",
       "\n",
       "          over_time    incentive    idle_time     idle_men  \\\n",
       "count   1197.000000  1197.000000  1197.000000  1197.000000   \n",
       "mean    4567.460317    38.210526     0.730159     0.369256   \n",
       "std     3348.823563   160.182643    12.709757     3.268987   \n",
       "min        0.000000     0.000000     0.000000     0.000000   \n",
       "25%     1440.000000     0.000000     0.000000     0.000000   \n",
       "50%     3960.000000     0.000000     0.000000     0.000000   \n",
       "75%     6960.000000    50.000000     0.000000     0.000000   \n",
       "max    25920.000000  3600.000000   300.000000    45.000000   \n",
       "\n",
       "       no_of_style_change  no_of_workers  actual_productivity  quarterEncoded  \\\n",
       "count         1197.000000    1197.000000          1197.000000     1197.000000   \n",
       "mean             0.150376      34.609858             0.735091        1.399332   \n",
       "std              0.427848      22.197687             0.174488        1.215535   \n",
       "min              0.000000       2.000000             0.233705        0.000000   \n",
       "25%              0.000000       9.000000             0.650307        0.000000   \n",
       "50%              0.000000      34.000000             0.773333        1.000000   \n",
       "75%              0.000000      57.000000             0.850253        2.000000   \n",
       "max              2.000000      89.000000             1.120437        4.000000   \n",
       "\n",
       "        dayEncoded  productivity_indicator  \n",
       "count  1197.000000             1197.000000  \n",
       "mean      2.487051                0.005459  \n",
       "std       1.707511                0.160082  \n",
       "min       0.000000               -0.561958  \n",
       "25%       1.000000               -0.009556  \n",
       "50%       2.000000                0.000505  \n",
       "75%       4.000000                0.099111  \n",
       "max       5.000000                0.644375  "
      ]
     },
     "execution_count": 92,
     "metadata": {},
     "output_type": "execute_result"
    }
   ],
   "source": [
    "#COMPORTAMIENTO DE LAS VARIABLES\n",
    "data.describe()"
   ]
  },
  {
   "cell_type": "code",
   "execution_count": 93,
   "metadata": {},
   "outputs": [],
   "source": [
    "#Creacion del modelo: Explicacion de por qué se escoge un modelo de regresion\n",
    "#ToDo"
   ]
  },
  {
   "cell_type": "markdown",
   "metadata": {},
   "source": [
    "## Creacion del modelo Lineal"
   ]
  },
  {
   "cell_type": "code",
   "execution_count": 94,
   "metadata": {},
   "outputs": [],
   "source": [
    "#se intenta mediante sklearn\n",
    "from sklearn.model_selection import train_test_split\n",
    "from sklearn.linear_model import LinearRegression\n",
    "import pandas as pd\n",
    "from sklearn.preprocessing import MinMaxScaler"
   ]
  },
  {
   "cell_type": "code",
   "execution_count": 95,
   "metadata": {},
   "outputs": [
    {
     "name": "stdout",
     "output_type": "stream",
     "text": [
      "(1197, 16)\n"
     ]
    },
    {
     "data": {
      "text/html": [
       "<div>\n",
       "<style scoped>\n",
       "    .dataframe tbody tr th:only-of-type {\n",
       "        vertical-align: middle;\n",
       "    }\n",
       "\n",
       "    .dataframe tbody tr th {\n",
       "        vertical-align: top;\n",
       "    }\n",
       "\n",
       "    .dataframe thead th {\n",
       "        text-align: right;\n",
       "    }\n",
       "</style>\n",
       "<table border=\"1\" class=\"dataframe\">\n",
       "  <thead>\n",
       "    <tr style=\"text-align: right;\">\n",
       "      <th></th>\n",
       "      <th>dayEncoded</th>\n",
       "      <th>quarterEncoded</th>\n",
       "      <th>department</th>\n",
       "      <th>over_time</th>\n",
       "      <th>incentive</th>\n",
       "      <th>no_of_workers</th>\n",
       "    </tr>\n",
       "  </thead>\n",
       "  <tbody>\n",
       "    <tr>\n",
       "      <th>0</th>\n",
       "      <td>3</td>\n",
       "      <td>0</td>\n",
       "      <td>1</td>\n",
       "      <td>7080</td>\n",
       "      <td>98</td>\n",
       "      <td>59.0</td>\n",
       "    </tr>\n",
       "    <tr>\n",
       "      <th>1</th>\n",
       "      <td>3</td>\n",
       "      <td>0</td>\n",
       "      <td>0</td>\n",
       "      <td>960</td>\n",
       "      <td>0</td>\n",
       "      <td>8.0</td>\n",
       "    </tr>\n",
       "    <tr>\n",
       "      <th>2</th>\n",
       "      <td>3</td>\n",
       "      <td>0</td>\n",
       "      <td>1</td>\n",
       "      <td>3660</td>\n",
       "      <td>50</td>\n",
       "      <td>30.5</td>\n",
       "    </tr>\n",
       "    <tr>\n",
       "      <th>3</th>\n",
       "      <td>3</td>\n",
       "      <td>0</td>\n",
       "      <td>1</td>\n",
       "      <td>3660</td>\n",
       "      <td>50</td>\n",
       "      <td>30.5</td>\n",
       "    </tr>\n",
       "    <tr>\n",
       "      <th>4</th>\n",
       "      <td>3</td>\n",
       "      <td>0</td>\n",
       "      <td>1</td>\n",
       "      <td>1920</td>\n",
       "      <td>50</td>\n",
       "      <td>56.0</td>\n",
       "    </tr>\n",
       "  </tbody>\n",
       "</table>\n",
       "</div>"
      ],
      "text/plain": [
       "   dayEncoded  quarterEncoded  department  over_time  incentive  no_of_workers\n",
       "0           3               0           1       7080         98           59.0\n",
       "1           3               0           0        960          0            8.0\n",
       "2           3               0           1       3660         50           30.5\n",
       "3           3               0           1       3660         50           30.5\n",
       "4           3               0           1       1920         50           56.0"
      ]
     },
     "execution_count": 95,
     "metadata": {},
     "output_type": "execute_result"
    }
   ],
   "source": [
    "# Eleccion de variables de interes\n",
    "features = ['dayEncoded','quarterEncoded','department','over_time','incentive','no_of_workers']\n",
    "x = data[features]\n",
    "x = x.reset_index(drop=True)\n",
    "print(data.shape)\n",
    "x.head()"
   ]
  },
  {
   "cell_type": "markdown",
   "metadata": {},
   "source": [
    "### Definimos la variable de respuesta"
   ]
  },
  {
   "cell_type": "code",
   "execution_count": 96,
   "metadata": {},
   "outputs": [
    {
     "name": "stdout",
     "output_type": "stream",
     "text": [
      "(1197,)\n"
     ]
    },
    {
     "data": {
      "text/plain": [
       "0    0.940725\n",
       "1    0.886500\n",
       "2    0.800570\n",
       "3    0.800570\n",
       "4    0.800382\n",
       "Name: actual_productivity, dtype: float64"
      ]
     },
     "execution_count": 96,
     "metadata": {},
     "output_type": "execute_result"
    }
   ],
   "source": [
    "y = data['productivity_indicator']\n",
    "y = y.reset_index(drop=True)\n",
    "print(y.shape)\n",
    "y.head()"
   ]
  },
  {
   "cell_type": "code",
   "execution_count": 97,
   "metadata": {},
   "outputs": [],
   "source": [
    "#Normaliza con minmax\n",
    "scaler = MinMaxScaler()\n",
    "x = pd.DataFrame(scaler.fit_transform(x), columns=x.columns)"
   ]
  },
  {
   "cell_type": "code",
   "execution_count": 98,
   "metadata": {},
   "outputs": [
    {
     "name": "stdout",
     "output_type": "stream",
     "text": [
      "(957, 6)\n",
      "(957,)\n",
      "(240, 6)\n",
      "(240,)\n"
     ]
    }
   ],
   "source": [
    "#Separacion entre datos de train y test\n",
    "\n",
    "X_train, X_test, y_train, y_test = train_test_split(x, y, random_state=1, test_size=0.2)\n",
    "\n",
    "# tamaños \n",
    "print(X_train.shape)\n",
    "print(y_train.shape)\n",
    "print(X_test.shape)\n",
    "print(y_test.shape)"
   ]
  },
  {
   "cell_type": "code",
   "execution_count": 99,
   "metadata": {},
   "outputs": [
    {
     "name": "stdout",
     "output_type": "stream",
     "text": [
      "                             OLS Regression Results                            \n",
      "===============================================================================\n",
      "Dep. Variable:     actual_productivity   R-squared:                       0.024\n",
      "Model:                             OLS   Adj. R-squared:                  0.017\n",
      "Method:                  Least Squares   F-statistic:                     3.820\n",
      "Date:                 Tue, 12 Mar 2024   Prob (F-statistic):           0.000905\n",
      "Time:                         14:01:49   Log-Likelihood:                 331.10\n",
      "No. Observations:                  957   AIC:                            -648.2\n",
      "Df Residuals:                      950   BIC:                            -614.2\n",
      "Df Model:                            6                                         \n",
      "Covariance Type:             nonrobust                                         \n",
      "==================================================================================\n",
      "                     coef    std err          t      P>|t|      [0.025      0.975]\n",
      "----------------------------------------------------------------------------------\n",
      "const              0.7506      0.015     49.662      0.000       0.721       0.780\n",
      "dayEncoded        -0.0027      0.017     -0.160      0.873      -0.035       0.030\n",
      "quarterEncoded    -0.0364      0.018     -1.988      0.047      -0.072      -0.000\n",
      "department        -0.0946      0.033     -2.870      0.004      -0.159      -0.030\n",
      "over_time         -0.0207      0.063     -0.330      0.741      -0.144       0.102\n",
      "incentive          0.4825      0.165      2.928      0.003       0.159       0.806\n",
      "no_of_workers      0.1396      0.069      2.031      0.043       0.005       0.274\n",
      "==============================================================================\n",
      "Omnibus:                      103.318   Durbin-Watson:                   1.973\n",
      "Prob(Omnibus):                  0.000   Jarque-Bera (JB):              135.269\n",
      "Skew:                          -0.891   Prob(JB):                     4.23e-30\n",
      "Kurtosis:                       3.469   Cond. No.                         42.1\n",
      "==============================================================================\n",
      "\n",
      "Notes:\n",
      "[1] Standard Errors assume that the covariance matrix of the errors is correctly specified.\n"
     ]
    }
   ],
   "source": [
    "#Utilizando statsmodel\n",
    "import statsmodels.api as sm\n",
    "# crear el objeto del modelo\n",
    "linreg = LinearRegression()\n",
    "\n",
    "# ajustar los parámetros del modelo usando los datos de entrenamiento\n",
    "linreg.fit(X_train, y_train)\n",
    "\n",
    "# imprimir coeficientes\n",
    "intercept=linreg.intercept_\n",
    "# coeficientes con nombre de las características\n",
    "coef = list(zip(features, linreg.coef_))\n",
    "# agregar constante explícitamente\n",
    "X_train = sm.add_constant(X_train)\n",
    "# regresión usando mínimos cuadrados ordinarios (ordinary least squares - OLS) \n",
    "model1 = sm.OLS(y_train, X_train).fit()\n",
    "print(model1.summary())"
   ]
  },
  {
   "cell_type": "markdown",
   "metadata": {},
   "source": [
    "#### Como se puede apreciar el modelo no es muy bueno prediciendo $r^{2}$ = 0.01, vamos a eliminar las variables menos significativas para ajustar el modelo"
   ]
  },
  {
   "cell_type": "code",
   "execution_count": 100,
   "metadata": {},
   "outputs": [
    {
     "name": "stdout",
     "output_type": "stream",
     "text": [
      "                             OLS Regression Results                            \n",
      "===============================================================================\n",
      "Dep. Variable:     actual_productivity   R-squared:                       0.019\n",
      "Model:                             OLS   Adj. R-squared:                  0.015\n",
      "Method:                  Least Squares   F-statistic:                     4.717\n",
      "Date:                 Tue, 12 Mar 2024   Prob (F-statistic):           0.000899\n",
      "Time:                         14:01:49   Log-Likelihood:                 329.09\n",
      "No. Observations:                  957   AIC:                            -648.2\n",
      "Df Residuals:                      952   BIC:                            -623.9\n",
      "Df Model:                            4                                         \n",
      "Covariance Type:             nonrobust                                         \n",
      "=================================================================================\n",
      "                    coef    std err          t      P>|t|      [0.025      0.975]\n",
      "---------------------------------------------------------------------------------\n",
      "const             0.7332      0.012     63.021      0.000       0.710       0.756\n",
      "department       -0.0921      0.033     -2.794      0.005      -0.157      -0.027\n",
      "over_time     -1.013e-06   2.41e-06     -0.420      0.674   -5.74e-06    3.72e-06\n",
      "incentive         0.0001   4.55e-05      3.010      0.003    4.77e-05       0.000\n",
      "no_of_workers     0.0016      0.001      2.013      0.044    4.02e-05       0.003\n",
      "==============================================================================\n",
      "Omnibus:                      106.988   Durbin-Watson:                   1.986\n",
      "Prob(Omnibus):                  0.000   Jarque-Bera (JB):              141.453\n",
      "Skew:                          -0.910   Prob(JB):                     1.92e-31\n",
      "Kurtosis:                       3.485   Cond. No.                     3.46e+04\n",
      "==============================================================================\n",
      "\n",
      "Notes:\n",
      "[1] Standard Errors assume that the covariance matrix of the errors is correctly specified.\n",
      "[2] The condition number is large, 3.46e+04. This might indicate that there are\n",
      "strong multicollinearity or other numerical problems.\n"
     ]
    }
   ],
   "source": [
    "features.remove('quarterEncoded')\n",
    "features.remove('dayEncoded')\n",
    "x = data[features]\n",
    "x = x.reset_index(drop=True)\n",
    "X_train, X_test, y_train, y_test = train_test_split(x, y, random_state=1, test_size=0.2)\n",
    "linreg = LinearRegression()\n",
    "linreg.fit(X_train, y_train)\n",
    "intercept=linreg.intercept_\n",
    "coef = list(zip(features, linreg.coef_))\n",
    "# agregar constante explícitamente\n",
    "X_train = sm.add_constant(X_train)\n",
    "# regresión numero 2 usando mínimos cuadrados ordinarios (ordinary least squares - OLS) \n",
    "model2 = sm.OLS(y_train, X_train).fit()\n",
    "print(model2.summary())"
   ]
  },
  {
   "cell_type": "markdown",
   "metadata": {},
   "source": [
    "### Usamos el modelo para predecir los datos de validacion"
   ]
  },
  {
   "cell_type": "code",
   "execution_count": 101,
   "metadata": {},
   "outputs": [
    {
     "data": {
      "text/plain": [
       "array([0.74645141, 0.7334585 , 0.72151192, 0.74449716, 0.75525937,\n",
       "       0.74791941, 0.74449716, 0.72738923, 0.76016807, 0.74645141,\n",
       "       0.74791941, 0.74206589, 0.740313  , 0.74498342, 0.74731159,\n",
       "       0.74498342, 0.72545181, 0.72482183, 0.69969465, 0.74255215,\n",
       "       0.74498342, 0.74401091, 0.72733181, 0.74498342, 0.70172811,\n",
       "       0.70573792, 0.74791941, 0.74498342, 0.69969465, 0.74449716,\n",
       "       0.75085539, 0.71748186, 0.76993931, 0.72741838, 0.73803956,\n",
       "       0.74498342, 0.73853083, 0.72380673, 0.71192643, 0.73069754,\n",
       "       0.72586308, 0.74381488, 0.73639449, 0.74498342, 0.73145925,\n",
       "       0.9497237 , 0.738845  , 0.69278306, 0.69575904, 0.74645141,\n",
       "       0.75966335, 0.72628982, 0.73314432, 0.73373268, 0.75525937,\n",
       "       0.72887906, 0.7101419 , 0.69481365, 0.74498342, 0.74255215,\n",
       "       0.75085539, 0.74449716, 0.73665049, 0.71747428, 0.74376778,\n",
       "       0.74401091, 0.69969465, 0.75012601, 0.73882411, 0.71454588,\n",
       "       0.72821177, 0.72769704, 0.74791941, 0.73094233, 0.73639449,\n",
       "       0.74498342, 0.74449716, 0.73541775, 0.74498342, 0.72052096,\n",
       "       0.74322075, 0.7321447 , 0.72887906, 0.73493007, 0.7372791 ,\n",
       "       0.7493874 , 0.69668232, 0.74449716, 0.69232787, 0.74498342,\n",
       "       0.72052096, 0.72002948, 0.76259934, 0.74498342, 0.74498342,\n",
       "       0.74498342, 0.72887906, 0.75434764, 0.74498342, 0.74255215,\n",
       "       0.75085539, 0.74498342, 0.70842155, 0.74308995, 0.69275988,\n",
       "       0.74449716, 0.74731159, 0.73280836, 0.74498342, 0.73280836,\n",
       "       0.74498342, 0.73617546, 0.75419299, 0.73025688, 0.74255215,\n",
       "       0.73445344, 0.72975077, 0.7613837 , 0.72451034, 0.73637603,\n",
       "       0.74449716, 0.72539734, 0.73739411, 0.72188584, 0.75525937,\n",
       "       0.72750816, 0.74449716, 0.69534512, 0.74113554, 0.70149099,\n",
       "       0.69969465, 0.74498342, 0.74498342, 0.73292729, 0.75066937,\n",
       "       0.73280836, 0.75834461, 0.73242256, 0.72849181, 0.73614109,\n",
       "       0.69105798, 0.74498342, 0.72626214, 0.71854284, 0.74449716,\n",
       "       0.6928399 , 0.69654158, 0.69493521, 0.69370269, 0.69869503,\n",
       "       0.75966335, 0.69232787, 0.73860546, 0.72188584, 0.73245887,\n",
       "       0.74449716, 0.74498342, 0.70156862, 0.73314432, 0.73355559,\n",
       "       0.74791941, 0.72887906, 0.73245887, 0.75287425, 0.74449716,\n",
       "       0.74498342, 0.72941521, 0.73765141, 0.74449716, 0.74670377,\n",
       "       0.74371623, 0.7086739 , 0.73312218, 0.72176038, 0.74255215,\n",
       "       0.69129353, 0.74222532, 0.73319287, 0.74255215, 0.74498342,\n",
       "       0.72887906, 0.74498342, 0.74645141, 0.74698381, 0.73492649,\n",
       "       0.73451522, 0.73493007, 0.74645141, 0.72961898, 0.74498342,\n",
       "       0.7378843 , 0.68958999, 0.74670377, 0.70280193, 0.74467951,\n",
       "       0.74057944, 0.72963713, 0.7448103 , 0.74939663, 0.74498342,\n",
       "       0.73231323, 0.72012657, 0.72887906, 0.73492649, 0.74498342,\n",
       "       0.74449716, 0.74590438, 0.91364299, 0.74498342, 0.72805489,\n",
       "       0.74731159, 0.74449716, 0.73241033, 0.74498342, 0.74791941,\n",
       "       0.73636179, 0.74498342, 0.71865858, 0.7244311 , 0.74939663,\n",
       "       0.75856928, 0.72628982, 0.74401091, 0.74791941, 0.73258144,\n",
       "       0.73673045, 0.73461232, 0.69506305, 0.71865858, 0.72713526,\n",
       "       0.71894986, 0.72750816, 0.69232787, 0.72715472, 0.69315041,\n",
       "       0.74449716, 0.74204743, 0.74645141, 0.73091089, 1.25060668])"
      ]
     },
     "execution_count": 101,
     "metadata": {},
     "output_type": "execute_result"
    }
   ],
   "source": [
    "y_pred = linreg.predict(X_test)\n",
    "y_pred"
   ]
  },
  {
   "cell_type": "code",
   "execution_count": 102,
   "metadata": {},
   "outputs": [
    {
     "data": {
      "image/png": "[encoded data removed]",
      "text/plain": [
       "<Figure size 640x480 with 1 Axes>"
      ]
     },
     "metadata": {},
     "output_type": "display_data"
    }
   ],
   "source": [
    "# Hacer predicciones en el conjunto de prueba\n",
    "y_pred = linreg.predict(X_test)\n",
    "\n",
    "# Graficar las predicciones vs los valores reales\n",
    "plt.scatter(y_test, y_pred, color='blue')\n",
    "plt.plot([y_test.min(), y_test.max()], [y_test.min(), y_test.max()], linestyle='--', color='red')  # Línea de referencia y=x\n",
    "plt.xlabel('Valores reales')\n",
    "plt.ylabel('Prediccion del modelo')\n",
    "plt.title('Regresion')\n",
    "plt.show()"
   ]
  },
  {
   "cell_type": "markdown",
   "metadata": {},
   "source": [
    "### Evaluamos las métricas del modelo"
   ]
  },
  {
   "cell_type": "code",
   "execution_count": 103,
   "metadata": {},
   "outputs": [],
   "source": [
    "#Importacion de clases para las métricas de evaluacion\n",
    "from sklearn import metrics\n",
    "from sklearn.model_selection import cross_val_score"
   ]
  },
  {
   "cell_type": "code",
   "execution_count": 104,
   "metadata": {},
   "outputs": [
    {
     "name": "stdout",
     "output_type": "stream",
     "text": [
      "MAE:  0.14117057713876538\n",
      "MSE:  0.03178544064986869\n",
      "RMSE:  0.17828471793698047\n"
     ]
    }
   ],
   "source": [
    "# mean absolute error\n",
    "MAE = metrics.mean_absolute_error(y_test, y_pred)\n",
    "\n",
    "# mean squared error\n",
    "MSE = metrics.mean_squared_error(y_test, y_pred)\n",
    "\n",
    "# root mean squared error\n",
    "RMSE = np.sqrt(MSE)\n",
    "\n",
    "# Calcular el coeficiente de determinación (R²)\n",
    "r2 = metrics.r2_score(y_test, y_pred)\n",
    "\n",
    "print(\"MAE: \", MAE)\n",
    "print(\"MSE: \", MSE)\n",
    "print(\"RMSE: \", RMSE)"
   ]
  },
  {
   "cell_type": "markdown",
   "metadata": {},
   "source": [
    "### Metricas con validacion cruzada"
   ]
  },
  {
   "cell_type": "code",
   "execution_count": 105,
   "metadata": {},
   "outputs": [
    {
     "name": "stdout",
     "output_type": "stream",
     "text": [
      "[0.02185946 0.02894034 0.0395603  0.03607628 2.60198099]\n"
     ]
    }
   ],
   "source": [
    "#Evaluacion del modelo con validacion cruzada\n",
    "#ToDo\n",
    "#Evaluar con diferentes métricas en scoring( Preguntar a juanfer)\n",
    "scores = cross_val_score(linreg, x, y, cv=5, scoring='neg_mean_squared_error')\n",
    "mse_scores = - scores\n",
    "print(mse_scores)"
   ]
  },
  {
   "cell_type": "code",
   "execution_count": 106,
   "metadata": {},
   "outputs": [
    {
     "name": "stdout",
     "output_type": "stream",
     "text": [
      "El error calculado por RMSE es [0.14784944 0.1701186  0.19889771 0.18993757 1.61306571] \n",
      "El RMSE promedio es 0.46397380648111586 \n"
     ]
    }
   ],
   "source": [
    "# calcular RMSE\n",
    "#ToDo\n",
    "# Ademas de esto analizar mas funciones de perdida\n",
    "\n",
    "rmse_scores = np.sqrt(mse_scores)\n",
    "print(\"El error calculado por RMSE es {} \".format(rmse_scores))\n",
    "# RMSE promedio a través de todos los grupos\n",
    "print(\"El RMSE promedio es {} \".format(rmse_scores.mean()))"
   ]
  },
  {
   "cell_type": "markdown",
   "metadata": {},
   "source": [
    "### Evaluacion usando pruebas estadisticas"
   ]
  },
  {
   "cell_type": "code",
   "execution_count": 107,
   "metadata": {},
   "outputs": [
    {
     "name": "stdout",
     "output_type": "stream",
     "text": [
      "                             OLS Regression Results                            \n",
      "===============================================================================\n",
      "Dep. Variable:     actual_productivity   R-squared:                       0.019\n",
      "Model:                             OLS   Adj. R-squared:                  0.015\n",
      "Method:                  Least Squares   F-statistic:                     4.717\n",
      "Date:                 Tue, 12 Mar 2024   Prob (F-statistic):           0.000899\n",
      "Time:                         14:01:50   Log-Likelihood:                 329.09\n",
      "No. Observations:                  957   AIC:                            -648.2\n",
      "Df Residuals:                      952   BIC:                            -623.9\n",
      "Df Model:                            4                                         \n",
      "Covariance Type:             nonrobust                                         \n",
      "=================================================================================\n",
      "                    coef    std err          t      P>|t|      [0.025      0.975]\n",
      "---------------------------------------------------------------------------------\n",
      "const             0.7332      0.012     63.021      0.000       0.710       0.756\n",
      "department       -0.0921      0.033     -2.794      0.005      -0.157      -0.027\n",
      "over_time     -1.013e-06   2.41e-06     -0.420      0.674   -5.74e-06    3.72e-06\n",
      "incentive         0.0001   4.55e-05      3.010      0.003    4.77e-05       0.000\n",
      "no_of_workers     0.0016      0.001      2.013      0.044    4.02e-05       0.003\n",
      "==============================================================================\n",
      "Omnibus:                      106.988   Durbin-Watson:                   1.986\n",
      "Prob(Omnibus):                  0.000   Jarque-Bera (JB):              141.453\n",
      "Skew:                          -0.910   Prob(JB):                     1.92e-31\n",
      "Kurtosis:                       3.485   Cond. No.                     3.46e+04\n",
      "==============================================================================\n",
      "\n",
      "Notes:\n",
      "[1] Standard Errors assume that the covariance matrix of the errors is correctly specified.\n",
      "[2] The condition number is large, 3.46e+04. This might indicate that there are\n",
      "strong multicollinearity or other numerical problems.\n",
      "0.019432695753040186\n",
      "0.015312665062926945\n",
      "const            0.733239\n",
      "department      -0.092093\n",
      "over_time       -0.000001\n",
      "incentive        0.000137\n",
      "no_of_workers    0.001590\n",
      "dtype: float64\n",
      "4.716638591958141\n",
      "const            63.021250\n",
      "department       -2.793563\n",
      "over_time        -0.420285\n",
      "incentive         3.010389\n",
      "no_of_workers     2.013330\n",
      "dtype: float64\n",
      "const            0.011635\n",
      "department       0.032966\n",
      "over_time        0.000002\n",
      "incentive        0.000046\n",
      "no_of_workers    0.000790\n",
      "dtype: float64\n",
      "const            0.000000\n",
      "department       0.005318\n",
      "over_time        0.674372\n",
      "incentive        0.002678\n",
      "no_of_workers    0.044361\n",
      "dtype: float64\n"
     ]
    }
   ],
   "source": [
    "#Utilizando statsmodel\n",
    "import statsmodels.api as sm\n",
    "\n",
    "# agregar constante explícitamente\n",
    "X_train = sm.add_constant(X_train)\n",
    "\n",
    "# regresión usando mínimos cuadrados ordinarios (ordinary least squares - OLS) \n",
    "model = sm.OLS(y_train, X_train).fit()\n",
    "\n",
    "# resumen de resultados\n",
    "\n",
    "print(model.summary())\n",
    "print(model.rsquared)\n",
    "print(model.rsquared_adj)\n",
    "print(model.params)\n",
    "print(model.fvalue)\n",
    "print(model.tvalues)\n",
    "print(model.bse)\n",
    "print(model.pvalues)\n",
    "\n"
   ]
  },
  {
   "cell_type": "code",
   "execution_count": 108,
   "metadata": {},
   "outputs": [
    {
     "data": {
      "image/png": "[encoded data removed]",
      "text/plain": [
       "<Figure size 640x480 with 1 Axes>"
      ]
     },
     "metadata": {},
     "output_type": "display_data"
    }
   ],
   "source": [
    "#Creacion de influence plot\n",
    "fig = sm.graphics.influence_plot(model, criterion=\"cooks\")"
   ]
  },
  {
   "cell_type": "code",
   "execution_count": null,
   "metadata": {},
   "outputs": [],
   "source": []
  }
 ],
 "metadata": {
  "kernelspec": {
   "display_name": "Python 3",
   "language": "python",
   "name": "python3"
  },
  "language_info": {
   "codemirror_mode": {
    "name": "ipython",
    "version": 3
   },
   "file_extension": ".py",
   "mimetype": "text/x-python",
   "name": "python",
   "nbconvert_exporter": "python",
   "pygments_lexer": "ipython3",
   "version": "3.11.0"
  }
 },
 "nbformat": 4,
 "nbformat_minor": 2
}
